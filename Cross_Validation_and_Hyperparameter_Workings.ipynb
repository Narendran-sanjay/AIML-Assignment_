{
  "nbformat": 4,
  "nbformat_minor": 0,
  "metadata": {
    "colab": {
      "provenance": []
    },
    "kernelspec": {
      "name": "python3",
      "display_name": "Python 3"
    },
    "language_info": {
      "name": "python"
    }
  },
  "cells": [
    {
      "cell_type": "markdown",
      "source": [
        "# Cross Validation Examples"
      ],
      "metadata": {
        "id": "akffUxjzXNbj"
      }
    },
    {
      "cell_type": "code",
      "execution_count": null,
      "metadata": {
        "colab": {
          "base_uri": "https://localhost:8080/"
        },
        "id": "a26O6C-WWy5e",
        "outputId": "12226181-de13-4141-af60-f50ff224395c"
      },
      "outputs": [
        {
          "output_type": "stream",
          "name": "stdout",
          "text": [
            "5-Fold Cross-Validation:\n",
            "Accuracy scores for 5-fold CV: [0.96666667 1.         0.96666667 1.         0.93333333]\n",
            "Mean accuracy: 0.9733333333333334\n",
            "\n",
            "10-Fold Cross-Validation:\n",
            "Accuracy scores for 10-fold CV: [1.         1.         1.         1.         0.86666667 1.\n",
            " 0.93333333 0.93333333 0.93333333 1.        ]\n",
            "Mean accuracy: 0.9666666666666666\n"
          ]
        }
      ],
      "source": [
        "# Import necessary libraries\n",
        "import numpy as np\n",
        "from sklearn.model_selection import cross_val_score, KFold\n",
        "from sklearn.linear_model import LogisticRegression\n",
        "from sklearn.datasets import load_iris\n",
        "from sklearn.model_selection import StratifiedKFold\n",
        "\n",
        "# Load the Iris dataset\n",
        "data = load_iris()\n",
        "X = data.data  # Features\n",
        "y = data.target  # Labels\n",
        "\n",
        "# Initialize Logistic Regression model\n",
        "model = LogisticRegression(max_iter=500)\n",
        "\n",
        "# 5-Fold Cross-Validation\n",
        "print(\"5-Fold Cross-Validation:\")\n",
        "cv_5fold = StratifiedKFold(n_splits=5, shuffle=True)\n",
        "scores_5fold = cross_val_score(model, X, y, cv=cv_5fold, scoring='accuracy')\n",
        "print(f\"Accuracy scores for 5-fold CV: {scores_5fold}\")\n",
        "print(f\"Mean accuracy: {np.mean(scores_5fold)}\\n\")\n",
        "\n",
        "# 10-Fold Cross-Validation\n",
        "print(\"10-Fold Cross-Validation:\")\n",
        "cv_10fold = StratifiedKFold(n_splits=10, shuffle=True)\n",
        "scores_10fold = cross_val_score(model, X, y, cv=cv_10fold, scoring='accuracy')\n",
        "print(f\"Accuracy scores for 10-fold CV: {scores_10fold}\")\n",
        "print(f\"Mean accuracy: {np.mean(scores_10fold)}\")\n"
      ]
    },
    {
      "cell_type": "markdown",
      "source": [
        "#Hyperparameter Tuning"
      ],
      "metadata": {
        "id": "EqGRe8ZiX1Rs"
      }
    },
    {
      "cell_type": "code",
      "source": [
        "from sklearn.datasets import load_iris\n",
        "from sklearn.tree import DecisionTreeClassifier\n",
        "from sklearn.model_selection import GridSearchCV\n",
        "\n",
        "# Load the dataset\n",
        "data = load_iris()\n",
        "X = data.data\n",
        "y = data.target\n",
        "\n",
        "# Create the decision tree model\n",
        "model = DecisionTreeClassifier()\n",
        "\n",
        "# Define the hyperparameters and their possible values\n",
        "param_grid = {\n",
        "    'max_depth': [3, 5, 7, None],  # Different depths of the tree\n",
        "    'min_samples_split': [2, 5, 10]  # Minimum samples to split\n",
        "}\n",
        "\n",
        "# Set up GridSearchCV to search for the best combination of parameters\n",
        "grid_search = GridSearchCV(estimator=model, param_grid=param_grid, cv=5)  # 5-fold cross-validation\n",
        "\n",
        "# Fit the model with the best hyperparameters\n",
        "grid_search.fit(X, y)\n",
        "\n",
        "# Print the best parameters found\n",
        "print(\"Best Hyperparameters:\", grid_search.best_params_)"
      ],
      "metadata": {
        "colab": {
          "base_uri": "https://localhost:8080/"
        },
        "id": "iJR6pzDRXVM2",
        "outputId": "2d13b014-66d2-4a58-8770-253d5eeac728"
      },
      "execution_count": 1,
      "outputs": [
        {
          "output_type": "stream",
          "name": "stdout",
          "text": [
            "Best Hyperparameters: {'max_depth': 5, 'min_samples_split': 5}\n"
          ]
        }
      ]
    },
    {
      "cell_type": "code",
      "source": [
        "# prompt: give answers in tabular column\n",
        "\n",
        "import pandas as pd\n",
        "\n",
        "data = {'Fold': [5, 10],\n",
        "        'Accuracy Scores': [ \"[0.96666667 1.         0.93333333 0.96666667 1.        ]\",\n",
        "                             \"[1.         0.9        1.         0.9        0.96666667 0.9        1.         1.         0.93333333 1.        ]\"],\n",
        "        'Mean Accuracy': [0.9733333333333334, 0.96]}\n",
        "\n",
        "df = pd.DataFrame(data)\n",
        "print(df)\n",
        "print(\"\\nBest Hyperparameters: {'max_depth': 3, 'min_samples_split': 2}\")"
      ],
      "metadata": {
        "colab": {
          "base_uri": "https://localhost:8080/"
        },
        "id": "D4gmp_AaT6oS",
        "outputId": "817760a1-9c9e-4ebd-c80c-cce8da0dceb4"
      },
      "execution_count": 3,
      "outputs": [
        {
          "output_type": "stream",
          "name": "stdout",
          "text": [
            "   Fold                                    Accuracy Scores  Mean Accuracy\n",
            "0     5  [0.96666667 1.         0.93333333 0.96666667 1...       0.973333\n",
            "1    10  [1.         0.9        1.         0.9        0...       0.960000\n",
            "\n",
            "Best Hyperparameters: {'max_depth': 3, 'min_samples_split': 2}\n"
          ]
        }
      ]
    }
  ]
}